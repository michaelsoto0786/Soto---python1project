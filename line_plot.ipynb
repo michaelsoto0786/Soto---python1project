{
 "cells": [
  {
   "cell_type": "code",
   "execution_count": null,
   "metadata": {},
   "outputs": [],
   "source": [
    "# Load main packages\n",
    "import numpy as np # linear algebra\n",
    "import pandas as pd # data processing, CSV file I/O (e.g. pd.read_csv)\n",
    "import matplotlib.pyplot as plt # plotting handling\n",
    "import seaborn as sns # plotting handling\n",
    "import altair as alt # plotting handling\n",
    "import time # timer"
   ]
  },
  {
   "cell_type": "code",
   "execution_count": null,
   "metadata": {},
   "outputs": [],
   "source": [
    "# Load \n",
    "data = pd.read_csv('C:/Users/micha/OneDrive/Documents/repos/Soto Instagram test/Instagram_Data.csv')"
   ]
  },
  {
   "cell_type": "code",
   "execution_count": null,
   "metadata": {},
   "outputs": [],
   "source": [
    "# Clean/Preprocessing\n",
    "data['Date Posted'] = pd.to_datetime(data['Date Posted']) # Convert to datetime\n",
    "data['Type'] = data['Type'].astype('category') # Change to category\n",
    "data['Day Name'] = data['Date Posted'].dt.strftime(\"%A\") # Get day name\n",
    "data['Workday'] = data['Day Name'].apply(lambda x: False if x in ['Saturday', 'Sunday'] else True) # Is workday or not"
   ]
  },
  {
   "cell_type": "code",
   "execution_count": null,
   "metadata": {},
   "outputs": [],
   "source": [
    "months = ['Jan', 'Feb', 'Mar', 'Apr', 'May', 'Jun', 'Jul', 'Aug', 'Sep', 'Oct', 'Nov', 'Dec']"
   ]
  },
  {
   "cell_type": "code",
   "execution_count": null,
   "metadata": {},
   "outputs": [],
   "source": [
    "def plot_agg(agg_name=\"Average\", agg_function=np.mean, ci=75):\n",
    "    palette = [\"navy\", \"teal\", \"crimson\"]\n",
    "    cols = ['Image', 'Images', 'Video'] \n",
    "    STEP = 0.1\n",
    "    \n",
    "    # Plot lineplot\n",
    "    plt.figure(figsize=(20, 9))\n",
    "    \n",
    "    for col, pal in zip(cols, palette):\n",
    "        # Plot Mean - Max\n",
    "        preframe = data[data[\"Type\"] == col]\n",
    "        frame = preframe.groupby('Month')['Likes'].apply(agg_function)\n",
    "        sns.lineplot(data=preframe, x=\"Month\", y=\"Likes\", color=pal, estimator=agg_function, ci=ci, label=col)\n",
    "        plt.plot(frame.argmax()+1, frame.max(), color=pal, markersize=10, marker='o')\n",
    "        plt.text(frame.argmax()+1 + STEP, frame.max(), f'MAX({col})={round(frame.max())} | {months[frame.argmax()]}', color=pal, weight='bold')\n",
    "    \n",
    "    plt.legend(loc='lower right')\n",
    "    plt.title(f'{agg_name} number of likes by Month and Type of content ({ci}% confidence interval)')\n",
    "    plt.show()"
   ]
  }
 ],
 "metadata": {
  "interpreter": {
   "hash": "5ba07a350988f024b54f83db5857398c9985c12277eab18b597a9845966b8c16"
  },
  "kernelspec": {
   "display_name": "Python 3.10.1 64-bit",
   "language": "python",
   "name": "python3"
  },
  "language_info": {
   "codemirror_mode": {
    "name": "ipython",
    "version": 3
   },
   "file_extension": ".py",
   "mimetype": "text/x-python",
   "name": "python",
   "nbconvert_exporter": "python",
   "pygments_lexer": "ipython3",
   "version": "3.10.1"
  },
  "orig_nbformat": 4
 },
 "nbformat": 4,
 "nbformat_minor": 2
}
