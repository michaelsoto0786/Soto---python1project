{
 "cells": [
  {
   "cell_type": "code",
   "execution_count": 2,
   "metadata": {},
   "outputs": [
    {
     "ename": "SyntaxError",
     "evalue": "(unicode error) 'unicodeescape' codec can't decode bytes in position 2-3: truncated \\UXXXXXXXX escape (905352768.py, line 12)",
     "output_type": "error",
     "traceback": [
      "\u001b[1;36m  Input \u001b[1;32mIn [2]\u001b[1;36m\u001b[0m\n\u001b[1;33m    Instagram = pd.read_csv(\"C:\\Users\\micha\\OneDrive\\Documents\\repos\\Soto---python1project\\Instagram_Data.csv\") # the Instagram dataset is now a Pandas DataFrame\u001b[0m\n\u001b[1;37m                                                                                                              ^\u001b[0m\n\u001b[1;31mSyntaxError\u001b[0m\u001b[1;31m:\u001b[0m (unicode error) 'unicodeescape' codec can't decode bytes in position 2-3: truncated \\UXXXXXXXX escape\n"
     ]
    }
   ],
   "source": [
    "# First, we'll import pandas, a data processing and CSV file I/O library\n",
    "import pandas as pd\n",
    "\n",
    "# We'll also import seaborn, a Python graphing library\n",
    "import warnings # current version of seaborn generates a bunch of warnings that we'll ignore\n",
    "warnings.filterwarnings(\"ignore\")\n",
    "import seaborn as sns\n",
    "import matplotlib.pyplot as plt\n",
    "sns.set(style=\"white\", color_codes=True)\n",
    "\n",
    "# Next, we'll load the Instagram dataset, which is in the \"../input/\" directory\n",
    "Instagram = pd.read_csv(\"C:\\Users\\micha\\OneDrive\\Documents\\repos\\Soto---python1project\\Instagram_Data.csv\") # the Instagram dataset is now a Pandas DataFrame\n",
    "\n",
    "# Let's see what's in the Instagram data - Jupyter notebooks print the result of the last thing you do\n",
    "Instagram.head()\n",
    "\n",
    "# Press shift+enter to execute this cell"
   ]
  }
 ],
 "metadata": {
  "interpreter": {
   "hash": "5ba07a350988f024b54f83db5857398c9985c12277eab18b597a9845966b8c16"
  },
  "kernelspec": {
   "display_name": "Python 3.10.1 64-bit",
   "language": "python",
   "name": "python3"
  },
  "language_info": {
   "codemirror_mode": {
    "name": "ipython",
    "version": 3
   },
   "file_extension": ".py",
   "mimetype": "text/x-python",
   "name": "python",
   "nbconvert_exporter": "python",
   "pygments_lexer": "ipython3",
   "version": "3.10.1"
  },
  "orig_nbformat": 4
 },
 "nbformat": 4,
 "nbformat_minor": 2
}
