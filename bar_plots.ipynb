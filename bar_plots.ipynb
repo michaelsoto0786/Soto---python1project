{
 "cells": [
  {
   "cell_type": "code",
   "execution_count": null,
   "metadata": {},
   "outputs": [],
   "source": [
    "# Load main packages\n",
    "import numpy as np # linear algebra\n",
    "import pandas as pd # data processing, CSV file I/O (e.g. pd.read_csv)\n",
    "import matplotlib.pyplot as plt # plotting handling\n",
    "import seaborn as sns # plotting handling\n",
    "import altair as alt # plotting handling\n",
    "import time # timer"
   ]
  },
  {
   "cell_type": "code",
   "execution_count": null,
   "metadata": {},
   "outputs": [],
   "source": [
    "# Load \n",
    "data = pd.read_csv('C:/Users/micha/OneDrive/Documents/repos/Soto Instagram test/Instagram_Data.csv')"
   ]
  },
  {
   "cell_type": "code",
   "execution_count": null,
   "metadata": {},
   "outputs": [],
   "source": [
    "# Clean/Preprocessing\n",
    "data['Date Posted'] = pd.to_datetime(data['Date Posted']) # Convert to datetime\n",
    "data['Type'] = data['Type'].astype('category') # Change to category\n",
    "data['Day Name'] = data['Date Posted'].dt.strftime(\"%A\") # Get day name\n",
    "data['Workday'] = data['Day Name'].apply(lambda x: False if x in ['Saturday', 'Sunday'] else True) # Is workday or not"
   ]
  },
  {
   "cell_type": "code",
   "execution_count": null,
   "metadata": {},
   "outputs": [],
   "source": [
    "plt.figure(figsize=(20,6))\n",
    "sns.barplot(x='Hour', y='Likes', data=data, palette='Blues_d', capsize=.2)\n",
    "plt.title(\"Average number of likes by hour\")\n",
    "plt.show()"
   ]
  },
  {
   "cell_type": "code",
   "execution_count": null,
   "metadata": {},
   "outputs": [],
   "source": [
    "for content_type, col in zip(data[\"Type\"].unique(), ['icefire', 'magma', 'Blues_d']):\n",
    "    plt.figure(figsize=(20,6))\n",
    "    sns.barplot(x='Hour', y='Likes', data=data.query(f'Type == \"{content_type}\"'), hue='Workday', capsize=.2, palette=col)\n",
    "    plt.title(f'Average number of likes of {content_type} by hour and workday')\n",
    "    plt.show()"
   ]
  }
 ],
 "metadata": {
  "interpreter": {
   "hash": "5ba07a350988f024b54f83db5857398c9985c12277eab18b597a9845966b8c16"
  },
  "kernelspec": {
   "display_name": "Python 3.10.1 64-bit",
   "language": "python",
   "name": "python3"
  },
  "language_info": {
   "codemirror_mode": {
    "name": "ipython",
    "version": 3
   },
   "file_extension": ".py",
   "mimetype": "text/x-python",
   "name": "python",
   "nbconvert_exporter": "python",
   "pygments_lexer": "ipython3",
   "version": "3.10.1"
  },
  "orig_nbformat": 4
 },
 "nbformat": 4,
 "nbformat_minor": 2
}
